{
 "cells": [
  {
   "cell_type": "code",
   "execution_count": 1,
   "metadata": {},
   "outputs": [],
   "source": [
    "from instagrapi import Client"
   ]
  },
  {
   "cell_type": "code",
   "execution_count": 3,
   "metadata": {},
   "outputs": [
    {
     "data": {
      "text/plain": [
       "True"
      ]
     },
     "execution_count": 3,
     "metadata": {},
     "output_type": "execute_result"
    }
   ],
   "source": [
    "cl = Client()\n",
    "cl.login('nusa.testing', 'skripsi')"
   ]
  },
  {
   "cell_type": "code",
   "execution_count": null,
   "metadata": {},
   "outputs": [
    {
     "data": {
      "text/plain": [
       "True"
      ]
     },
     "execution_count": 6,
     "metadata": {},
     "output_type": "execute_result"
    }
   ],
   "source": [
    "# Save session\n",
    "cl.dump_settings(\"session.json\")"
   ]
  },
  {
   "cell_type": "code",
   "execution_count": 7,
   "metadata": {},
   "outputs": [
    {
     "name": "stdout",
     "output_type": "stream",
     "text": [
      "pk='18306790477228021' text='Nice post! 😊' user=UserShort(pk='71238072093', username='nusa.testing', full_name='', profile_pic_url=HttpUrl('https://instagram.fbbi2-3.fna.fbcdn.net/v/t51.2885-19/44884218_345707102882519_2446069589734326272_n.jpg?stp=dst-jpg_e0_s150x150_tt6&_nc_ht=instagram.fbbi2-3.fna.fbcdn.net&_nc_cat=1&_nc_oc=Q6cZ2AEzhcmHk1DPIksscov8TJvr0iJdHSQa0HgEOkphrWckeIV2yJB5J4XeHSWpfG8ufgmCCBCov4U66PYiE7eLis1Y&_nc_ohc=IHu3peLwM_sQ7kNvgHqfCZ_&_nc_gid=b21ff495a28e470694f6401c8836a841&edm=ANl9L9cBAAAA&ccb=7-5&ig_cache_key=YW5vbnltb3VzX3Byb2ZpbGVfcGlj.3-ccb7-5&oh=00_AYG7yc48b8ecF3tYTBrdX4z54CPdfoFaWKpQzbATzFl6iA&oe=67D3910F&_nc_sid=cb3ce5'), profile_pic_url_hd=None, is_private=False) created_at_utc=datetime.datetime(2025, 3, 9, 16, 55, 43, tzinfo=TzInfo(UTC)) content_type='comment' status='Active' replied_to_comment_id=None has_liked=None like_count=None\n"
     ]
    }
   ],
   "source": [
    "media_url = \"https://www.instagram.com/p/CtO7JUqv37G\"\n",
    "media_id = cl.media_id(cl.media_pk_from_url(media_url))\n",
    "comment_text = \"Nice post! 😊\"\n",
    "comment = cl.media_comment(media_id, comment_text)\n",
    "print(comment)"
   ]
  },
  {
   "cell_type": "code",
   "execution_count": 3,
   "metadata": {},
   "outputs": [
    {
     "name": "stderr",
     "output_type": "stream",
     "text": [
      "Status 201: JSONDecodeError in public_request (url=https://www.instagram.com/json.dumpss/?__a=1&__d=dis) >>> \n",
      "Status 201: JSONDecodeError in public_request (url=https://www.instagram.com/json.dumpss/?__a=1&__d=dis) >>> \n",
      "Status 201: JSONDecodeError in public_request (url=https://www.instagram.com/json.dumpss/?__a=1&__d=dis) >>> \n"
     ]
    }
   ],
   "source": [
    "# Fetch your user ID\n",
    "user_id = cl.user_id_from_username('json.dumpss')\n",
    "\n",
    "# Retrieve the most recent 20 posts you've liked\n",
    "liked_posts = cl.user_medias_v1(user_id, 20)\n"
   ]
  },
  {
   "cell_type": "code",
   "execution_count": 5,
   "metadata": {},
   "outputs": [
    {
     "name": "stdout",
     "output_type": "stream",
     "text": [
      "Post ID: 3261943555696699123_39214014959, Liked: False, Caption: tekpes\n",
      "Post ID: 3261940006233449273_39214014959, Liked: False, Caption: w/ desuh\n",
      "Post ID: 3261935398312443219_39214014959, Liked: False, Caption: sparta pt 2 (late post)\n",
      "Post ID: 3261932626993090716_39214014959, Liked: False, Caption: sparta pt 1 (late post)\n",
      "Post ID: 3180452684670785389_39214014959, Liked: False, Caption: wawan thingz\n",
      "\n",
      "bonus ayce wingstop\n",
      "Post ID: 3180449313364885194_39214014959, Liked: False, Caption: jogja selfie dump pt 2\n",
      "Post ID: 3180445889889863507_39214014959, Liked: False, Caption: jogja dump pt 1\n",
      "Post ID: 3164219049009614522_39214014959, Liked: False, Caption: tsg galdin edition\n",
      "Post ID: 3164217553958389004_39214014959, Liked: False, Caption: tsg outbond edition\n",
      "Post ID: 3107369918160182619_39214014959, Liked: False, Caption: bye sem 4 (2)\n",
      "\n",
      "tubes edition\n",
      "Post ID: 3107365867595031416_39214014959, Liked: False, Caption: bye sem 4 (1)\n"
     ]
    }
   ],
   "source": [
    "# Print details of liked posts\n",
    "for post in liked_posts:\n",
    "    print(f\"Post ID: {post.id}, Liked: {post.has_liked}, Caption: {post.caption_text}\")"
   ]
  },
  {
   "cell_type": "code",
   "execution_count": 6,
   "metadata": {},
   "outputs": [
    {
     "ename": "UserError",
     "evalue": "Account is not business account",
     "output_type": "error",
     "traceback": [
      "\u001b[1;31m---------------------------------------------------------------------------\u001b[0m",
      "\u001b[1;31mUserError\u001b[0m                                 Traceback (most recent call last)",
      "Cell \u001b[1;32mIn[6], line 1\u001b[0m\n\u001b[1;32m----> 1\u001b[0m \u001b[43mcl\u001b[49m\u001b[38;5;241;43m.\u001b[39;49m\u001b[43minsights_media_feed_all\u001b[49m\u001b[43m(\u001b[49m\u001b[38;5;124;43m\"\u001b[39;49m\u001b[38;5;124;43mVIDEO\u001b[39;49m\u001b[38;5;124;43m\"\u001b[39;49m\u001b[43m,\u001b[49m\u001b[43m \u001b[49m\u001b[38;5;124;43m\"\u001b[39;49m\u001b[38;5;124;43mONE_WEEK\u001b[39;49m\u001b[38;5;124;43m\"\u001b[39;49m\u001b[43m,\u001b[49m\u001b[43m \u001b[49m\u001b[38;5;124;43m\"\u001b[39;49m\u001b[38;5;124;43mLIKE_COUNT\u001b[39;49m\u001b[38;5;124;43m\"\u001b[39;49m\u001b[43m,\u001b[49m\u001b[43m \u001b[49m\u001b[38;5;241;43m42\u001b[39;49m\u001b[43m)\u001b[49m\n",
      "File \u001b[1;32mc:\\Users\\Asus\\AppData\\Local\\Programs\\Python\\Python311\\Lib\\site-packages\\instagrapi\\mixins\\insights.py:119\u001b[0m, in \u001b[0;36mInsightsMixin.insights_media_feed_all\u001b[1;34m(self, post_type, time_frame, data_ordering, count, sleep)\u001b[0m\n\u001b[0;32m    108\u001b[0m result \u001b[38;5;241m=\u001b[39m \u001b[38;5;28mself\u001b[39m\u001b[38;5;241m.\u001b[39mprivate_request(\n\u001b[0;32m    109\u001b[0m     \u001b[38;5;124m\"\u001b[39m\u001b[38;5;124mads/graphql/\u001b[39m\u001b[38;5;124m\"\u001b[39m,\n\u001b[0;32m    110\u001b[0m     \u001b[38;5;28mself\u001b[39m\u001b[38;5;241m.\u001b[39mwith_query_params(data, query_params),\n\u001b[0;32m    111\u001b[0m )\n\u001b[0;32m    112\u001b[0m \u001b[38;5;28;01mif\u001b[39;00m \u001b[38;5;129;01mnot\u001b[39;00m json_value(\n\u001b[0;32m    113\u001b[0m     result,\n\u001b[0;32m    114\u001b[0m     \u001b[38;5;124m\"\u001b[39m\u001b[38;5;124mdata\u001b[39m\u001b[38;5;124m\"\u001b[39m,\n\u001b[1;32m   (...)\u001b[0m\n\u001b[0;32m    117\u001b[0m     default\u001b[38;5;241m=\u001b[39m\u001b[38;5;28;01mNone\u001b[39;00m,\n\u001b[0;32m    118\u001b[0m ):\n\u001b[1;32m--> 119\u001b[0m     \u001b[38;5;28;01mraise\u001b[39;00m UserError(\u001b[38;5;124m\"\u001b[39m\u001b[38;5;124mAccount is not business account\u001b[39m\u001b[38;5;124m\"\u001b[39m, \u001b[38;5;241m*\u001b[39m\u001b[38;5;241m*\u001b[39m\u001b[38;5;28mself\u001b[39m\u001b[38;5;241m.\u001b[39mlast_json)\n\u001b[0;32m    120\u001b[0m stats \u001b[38;5;241m=\u001b[39m json_value(\n\u001b[0;32m    121\u001b[0m     result,\n\u001b[0;32m    122\u001b[0m     \u001b[38;5;124m\"\u001b[39m\u001b[38;5;124mdata\u001b[39m\u001b[38;5;124m\"\u001b[39m,\n\u001b[1;32m   (...)\u001b[0m\n\u001b[0;32m    126\u001b[0m     \u001b[38;5;124m\"\u001b[39m\u001b[38;5;124mtop_posts\u001b[39m\u001b[38;5;124m\"\u001b[39m,\n\u001b[0;32m    127\u001b[0m )\n\u001b[0;32m    128\u001b[0m cursor \u001b[38;5;241m=\u001b[39m stats[\u001b[38;5;124m\"\u001b[39m\u001b[38;5;124mpage_info\u001b[39m\u001b[38;5;124m\"\u001b[39m][\u001b[38;5;124m\"\u001b[39m\u001b[38;5;124mend_cursor\u001b[39m\u001b[38;5;124m\"\u001b[39m]\n",
      "\u001b[1;31mUserError\u001b[0m: Account is not business account"
     ]
    }
   ],
   "source": [
    "cl.insights_media_feed_all(\"VIDEO\", \"ONE_WEEK\", \"LIKE_COUNT\", 42)\n"
   ]
  },
  {
   "cell_type": "code",
   "execution_count": 4,
   "metadata": {},
   "outputs": [
    {
     "name": "stderr",
     "output_type": "stream",
     "text": [
      "Status 201: JSONDecodeError in public_request (url=https://www.instagram.com/nananaaat/?__a=1&__d=dis) >>> \n",
      "Status 201: JSONDecodeError in public_request (url=https://www.instagram.com/nananaaat/?__a=1&__d=dis) >>> \n",
      "Status 201: JSONDecodeError in public_request (url=https://www.instagram.com/nananaaat/?__a=1&__d=dis) >>> \n",
      "Status 201: JSONDecodeError in public_request (url=https://www.instagram.com/gulilii/?__a=1&__d=dis) >>> \n",
      "Status 201: JSONDecodeError in public_request (url=https://www.instagram.com/gulilii/?__a=1&__d=dis) >>> \n",
      "Status 201: JSONDecodeError in public_request (url=https://www.instagram.com/gulilii/?__a=1&__d=dis) >>> \n"
     ]
    },
    {
     "name": "stdout",
     "output_type": "stream",
     "text": [
      "['9228636981', '6696891892']\n"
     ]
    }
   ],
   "source": [
    "user_ids =[]\n",
    "usernames = ['nananaaat', 'gulilii']\n",
    "for username in usernames:\n",
    "    user = cl.user_id_from_username(username)\n",
    "    user_ids.append(user)\n",
    "print(user_ids)"
   ]
  },
  {
   "cell_type": "code",
   "execution_count": 6,
   "metadata": {},
   "outputs": [
    {
     "data": {
      "text/plain": [
       "DirectMessage(id='31983463128131537110016287825723392', user_id='', thread_id=340282366841710301281160466155745986985, timestamp=datetime.datetime(2024, 12, 10, 17, 36, 50), item_type=None, is_sent_by_viewer=None, is_shh_mode=None, reactions=None, text=None, reply=None, link=None, animated_media=None, media=None, visual_media=None, media_share=None, reel_share=None, story_share=None, felix_share=None, xma_share=None, clip=None, placeholder=None, client_context='6800060931342001512')"
      ]
     },
     "execution_count": 6,
     "metadata": {},
     "output_type": "execute_result"
    }
   ],
   "source": [
    "cl.direct_send(text='Hello there', user_ids=user_ids)"
   ]
  },
  {
   "cell_type": "code",
   "execution_count": 10,
   "metadata": {},
   "outputs": [
    {
     "name": "stdout",
     "output_type": "stream",
     "text": [
      "halo ngab\n",
      "Hello there\n"
     ]
    }
   ],
   "source": [
    "direct_messages =cl.direct_messages(thread_id=340282366841710301281160466155745986985, amount=10)\n",
    "# Extracting only the text from each DirectMessage\n",
    "texts = [message.text for message in direct_messages]\n",
    "\n",
    "# Printing the extracted text\n",
    "for text in texts:\n",
    "    print(text)"
   ]
  }
 ],
 "metadata": {
  "kernelspec": {
   "display_name": "Python 3",
   "language": "python",
   "name": "python3"
  },
  "language_info": {
   "codemirror_mode": {
    "name": "ipython",
    "version": 3
   },
   "file_extension": ".py",
   "mimetype": "text/x-python",
   "name": "python",
   "nbconvert_exporter": "python",
   "pygments_lexer": "ipython3",
   "version": "3.11.0"
  }
 },
 "nbformat": 4,
 "nbformat_minor": 2
}
